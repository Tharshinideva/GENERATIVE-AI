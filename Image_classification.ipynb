{
  "nbformat": 4,
  "nbformat_minor": 0,
  "metadata": {
    "colab": {
      "provenance": []
    },
    "kernelspec": {
      "name": "python3",
      "display_name": "Python 3"
    },
    "language_info": {
      "name": "python"
    }
  },
  "cells": [
    {
      "cell_type": "code",
      "execution_count": 1,
      "metadata": {
        "colab": {
          "base_uri": "https://localhost:8080/"
        },
        "id": "4WgA3HuLhCvx",
        "outputId": "258cc690-9874-47d9-8678-c5f24b3eed12"
      },
      "outputs": [
        {
          "output_type": "stream",
          "name": "stdout",
          "text": [
            "Downloading data from https://www.cs.toronto.edu/~kriz/cifar-10-python.tar.gz\n",
            "170498071/170498071 [==============================] - 8s 0us/step\n",
            "Epoch 1/10\n",
            "782/782 [==============================] - 55s 68ms/step - loss: 1.6065 - accuracy: 0.4116\n",
            "Epoch 2/10\n",
            "782/782 [==============================] - 57s 73ms/step - loss: 1.2531 - accuracy: 0.5551\n",
            "Epoch 3/10\n",
            "782/782 [==============================] - 57s 73ms/step - loss: 1.1139 - accuracy: 0.6060\n",
            "Epoch 4/10\n",
            "782/782 [==============================] - 55s 70ms/step - loss: 1.0161 - accuracy: 0.6411\n",
            "Epoch 5/10\n",
            "782/782 [==============================] - 54s 69ms/step - loss: 0.9454 - accuracy: 0.6682\n",
            "Epoch 6/10\n",
            "782/782 [==============================] - 55s 70ms/step - loss: 0.8965 - accuracy: 0.6861\n",
            "Epoch 7/10\n",
            "782/782 [==============================] - 52s 66ms/step - loss: 0.8560 - accuracy: 0.7006\n",
            "Epoch 8/10\n",
            "782/782 [==============================] - 52s 66ms/step - loss: 0.8175 - accuracy: 0.7148\n",
            "Epoch 9/10\n",
            "782/782 [==============================] - 52s 66ms/step - loss: 0.7829 - accuracy: 0.7240\n",
            "Epoch 10/10\n",
            "782/782 [==============================] - 55s 70ms/step - loss: 0.7510 - accuracy: 0.7372\n",
            "313/313 [==============================] - 5s 14ms/step - loss: 0.8856 - accuracy: 0.6990\n",
            "Test accuracy: 0.6990000009536743\n"
          ]
        }
      ],
      "source": [
        "import numpy as np\n",
        "import tensorflow as tf\n",
        "from tensorflow.keras import layers, models\n",
        "\n",
        "# Load dataset (e.g., CIFAR-10)\n",
        "(train_images, train_labels), (test_images, test_labels) = tf.keras.datasets.cifar10.load_data()\n",
        "\n",
        "# Preprocess data\n",
        "train_images = train_images.astype('float32') / 255\n",
        "test_images = test_images.astype('float32') / 255\n",
        "\n",
        "# Define CNN model\n",
        "model = models.Sequential([\n",
        "    layers.Conv2D(32, (3, 3), activation='relu', input_shape=(32, 32, 3)),\n",
        "    layers.MaxPooling2D((2, 2)),\n",
        "    layers.Conv2D(64, (3, 3), activation='relu'),\n",
        "    layers.MaxPooling2D((2, 2)),\n",
        "    layers.Conv2D(64, (3, 3), activation='relu'),\n",
        "    layers.Flatten(),\n",
        "    layers.Dense(64, activation='relu'),\n",
        "    layers.Dense(10, activation='softmax')\n",
        "])\n",
        "\n",
        "# Compile the model\n",
        "model.compile(optimizer='adam',\n",
        "              loss='sparse_categorical_crossentropy',\n",
        "              metrics=['accuracy'])\n",
        "\n",
        "# Train the model\n",
        "model.fit(train_images, train_labels, epochs=10, batch_size=64)\n",
        "\n",
        "# Evaluate the model\n",
        "test_loss, test_acc = model.evaluate(test_images, test_labels)\n",
        "print('Test accuracy:', test_acc)\n"
      ]
    }
  ]
}